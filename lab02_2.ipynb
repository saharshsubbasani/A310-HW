{
  "nbformat": 4,
  "nbformat_minor": 0,
  "metadata": {
    "colab": {
      "provenance": []
    },
    "kernelspec": {
      "name": "python3",
      "display_name": "Python 3"
    },
    "language_info": {
      "name": "python"
    }
  },
  "cells": [
    {
      "cell_type": "code",
      "execution_count": 1,
      "metadata": {
        "id": "c1pTcfHw1sN2"
      },
      "outputs": [],
      "source": [
        "def get_matching_event(event_condition, sample_space):\n",
        "    return set([outcome for outcome in sample_space if event_condition(outcome)])"
      ]
    },
    {
      "cell_type": "code",
      "source": [
        "def compute_event_probability(event_condition, generic_sample_space):\n",
        "    event = get_matching_event(event_condition, generic_sample_space)\n",
        "    if type(generic_sample_space) == type(set()):\n",
        "        return len(event) / len(generic_sample_space)\n",
        "    event_size = sum(generic_sample_space[outcome] for outcome in event)\n",
        "    return event_size / sum(generic_sample_space.values())"
      ],
      "metadata": {
        "id": "QTVfbklD2KoS"
      },
      "execution_count": 3,
      "outputs": []
    },
    {
      "cell_type": "code",
      "source": [
        "possible_children = ['Boy', 'Girl']"
      ],
      "metadata": {
        "id": "xRt9lHuRhSLe"
      },
      "execution_count": 4,
      "outputs": []
    },
    {
      "cell_type": "code",
      "source": [
        "from itertools import product\n",
        "sample_space_efficient = set(product(possible_children, repeat=4))"
      ],
      "metadata": {
        "id": "bdxqIxCihSxn"
      },
      "execution_count": 5,
      "outputs": []
    },
    {
      "cell_type": "code",
      "source": [
        "sample_space_efficient"
      ],
      "metadata": {
        "colab": {
          "base_uri": "https://localhost:8080/"
        },
        "id": "YIby02tghS-5",
        "outputId": "92861ba6-5573-42dc-f848-0b067547b119"
      },
      "execution_count": 6,
      "outputs": [
        {
          "output_type": "execute_result",
          "data": {
            "text/plain": [
              "{('Boy', 'Boy', 'Boy', 'Boy'),\n",
              " ('Boy', 'Boy', 'Boy', 'Girl'),\n",
              " ('Boy', 'Boy', 'Girl', 'Boy'),\n",
              " ('Boy', 'Boy', 'Girl', 'Girl'),\n",
              " ('Boy', 'Girl', 'Boy', 'Boy'),\n",
              " ('Boy', 'Girl', 'Boy', 'Girl'),\n",
              " ('Boy', 'Girl', 'Girl', 'Boy'),\n",
              " ('Boy', 'Girl', 'Girl', 'Girl'),\n",
              " ('Girl', 'Boy', 'Boy', 'Boy'),\n",
              " ('Girl', 'Boy', 'Boy', 'Girl'),\n",
              " ('Girl', 'Boy', 'Girl', 'Boy'),\n",
              " ('Girl', 'Boy', 'Girl', 'Girl'),\n",
              " ('Girl', 'Girl', 'Boy', 'Boy'),\n",
              " ('Girl', 'Girl', 'Boy', 'Girl'),\n",
              " ('Girl', 'Girl', 'Girl', 'Boy'),\n",
              " ('Girl', 'Girl', 'Girl', 'Girl')}"
            ]
          },
          "metadata": {},
          "execution_count": 6
        }
      ]
    },
    {
      "cell_type": "code",
      "source": [
        "def has_two_boys(outcome):\n",
        "    return len([child for child in outcome if child == 'Boy']) == 2"
      ],
      "metadata": {
        "id": "6-wDPXIrhdDt"
      },
      "execution_count": 7,
      "outputs": []
    },
    {
      "cell_type": "code",
      "source": [
        "prob = compute_event_probability(has_two_boys, sample_space_efficient)\n",
        "print(f\"Probability of 2 boys is {prob}\")"
      ],
      "metadata": {
        "colab": {
          "base_uri": "https://localhost:8080/"
        },
        "id": "_6U-_p9Xhdor",
        "outputId": "2ba7ba9a-fd21-4af4-a4ce-d6e0c81c9fd0"
      },
      "execution_count": 8,
      "outputs": [
        {
          "output_type": "stream",
          "name": "stdout",
          "text": [
            "Probability of 2 boys is 0.375\n"
          ]
        }
      ]
    }
  ]
}