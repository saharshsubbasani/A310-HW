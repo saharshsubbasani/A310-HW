{
  "nbformat": 4,
  "nbformat_minor": 0,
  "metadata": {
    "colab": {
      "provenance": []
    },
    "kernelspec": {
      "name": "python3",
      "display_name": "Python 3"
    },
    "language_info": {
      "name": "python"
    }
  },
  "cells": [
    {
      "cell_type": "code",
      "execution_count": 42,
      "metadata": {
        "id": "sx9K89vm4oYX"
      },
      "outputs": [],
      "source": [
        "def get_matching_event(_condition, sample_space):\n",
        "  return set([outcome for outcome in sample_space\n",
        "              if _condition(outcome)])"
      ]
    },
    {
      "cell_type": "code",
      "source": [
        "def compute_event_probability(event_condition, generic_sample_space):\n",
        "    if isinstance(generic_sample_space, dict):\n",
        "        event_size = sum(weight for outcome_sum, weight in generic_sample_space.items()\n",
        "                         if event_condition(outcome_sum))\n",
        "        return event_size / sum(generic_sample_space.values())\n",
        "    else:\n",
        "        event = get_matching_event(event_condition, generic_sample_space)\n",
        "        return len(event) / len(generic_sample_space)"
      ],
      "metadata": {
        "id": "tNH4wTpAZaks"
      },
      "execution_count": 43,
      "outputs": []
    },
    {
      "cell_type": "code",
      "source": [
        "possible_rolls=list(range(1,7))\n",
        "print(possible_rolls)"
      ],
      "metadata": {
        "colab": {
          "base_uri": "https://localhost:8080/"
        },
        "id": "BFg4ZmRWZiHw",
        "outputId": "817cf90b-abbc-471e-bb46-db125926e7cb"
      },
      "execution_count": 44,
      "outputs": [
        {
          "output_type": "stream",
          "name": "stdout",
          "text": [
            "[1, 2, 3, 4, 5, 6]\n"
          ]
        }
      ]
    },
    {
      "cell_type": "code",
      "source": [
        "from itertools import product\n",
        "sample_space=set(product(possible_rolls,repeat=8))"
      ],
      "metadata": {
        "id": "URPNJczgZuD1"
      },
      "execution_count": 45,
      "outputs": []
    },
    {
      "cell_type": "code",
      "source": [
        "from collections import defaultdict\n",
        "weighted_sample_space=defaultdict(int)\n",
        "for outcome in sample_space:\n",
        "  total=sum(outcome)\n",
        "  weighted_sample_space[total]+=1"
      ],
      "metadata": {
        "id": "RLZ51OT-Z1f4"
      },
      "execution_count": 46,
      "outputs": []
    },
    {
      "cell_type": "code",
      "source": [
        "assert weighted_sample_space[8] ==1\n",
        "assert weighted_sample_space[48] ==1"
      ],
      "metadata": {
        "id": "Jm9BlpD_aBs5"
      },
      "execution_count": 48,
      "outputs": []
    },
    {
      "cell_type": "code",
      "source": [
        "num_combinations= weighted_sample_space[28]\n",
        "print(f'There are {num_combinations} ways for 8 die rolls to sum to 28.')"
      ],
      "metadata": {
        "colab": {
          "base_uri": "https://localhost:8080/"
        },
        "id": "v7IByCaJaPjW",
        "outputId": "8df0a088-2c34-4c6c-c06c-34674520de2b"
      },
      "execution_count": 49,
      "outputs": [
        {
          "output_type": "stream",
          "name": "stdout",
          "text": [
            "There are 135954 ways for 8 die rolls to sum to 28.\n"
          ]
        }
      ]
    },
    {
      "cell_type": "code",
      "source": [
        "event=get_matching_event(lambda x: sum(x) ==28, sample_space)\n",
        "assert weighted_sample_space[28] == len(event)\n",
        "assert sum(weighted_sample_space.values()) == len(sample_space)"
      ],
      "metadata": {
        "id": "oqzvIBjEbhRm"
      },
      "execution_count": 50,
      "outputs": []
    },
    {
      "cell_type": "code",
      "source": [
        "def is_in_interval(number,minimum,maximum):\n",
        "  return minimum <= number <= maximum"
      ],
      "metadata": {
        "id": "H00MYQEWb1rn"
      },
      "execution_count": 51,
      "outputs": []
    },
    {
      "cell_type": "code",
      "source": [
        "prob = compute_event_probability(lambda x: is_in_interval(x, 10, 21), weighted_sample_space)\n",
        "print(f'Probability of interval is {prob}')"
      ],
      "metadata": {
        "colab": {
          "base_uri": "https://localhost:8080/"
        },
        "id": "3UK29fd4b6-Z",
        "outputId": "ed04554e-6d46-411e-9302-41c3e211e3eb"
      },
      "execution_count": 54,
      "outputs": [
        {
          "output_type": "stream",
          "name": "stdout",
          "text": [
            "Probability of interval is 0.09064750514403293\n"
          ]
        }
      ]
    }
  ]
}