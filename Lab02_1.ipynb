{
  "nbformat": 4,
  "nbformat_minor": 0,
  "metadata": {
    "colab": {
      "provenance": []
    },
    "kernelspec": {
      "name": "python3",
      "display_name": "Python 3"
    },
    "language_info": {
      "name": "python"
    }
  },
  "cells": [
    {
      "cell_type": "code",
      "execution_count": null,
      "metadata": {
        "id": "NbLlTtg1zLxp"
      },
      "outputs": [],
      "source": [
        "sample_space = {'Heads', 'Tails'}"
      ]
    },
    {
      "cell_type": "code",
      "source": [
        "probability_heads= 1 / len(sample_space)\n",
        "print(f'Probability of choosing heads is {probability_heads}')"
      ],
      "metadata": {
        "id": "nB-SSwaEzTo9"
      },
      "execution_count": null,
      "outputs": []
    },
    {
      "cell_type": "markdown",
      "source": [
        "Unbiased coin"
      ],
      "metadata": {
        "id": "XjtKanBNzXTP"
      }
    },
    {
      "cell_type": "code",
      "source": [
        "def is_heads_or_tails(outcome): return outcome in {'Heads', 'Tails'}\n",
        "def is_neither(outcome): return not is_heads_or_tails(outcome)"
      ],
      "metadata": {
        "id": "myo0VpXxzZst"
      },
      "execution_count": null,
      "outputs": []
    },
    {
      "cell_type": "code",
      "source": [
        "def is_heads(outcome): return outcome == 'Heads'\n",
        "def is_tails(outcome): return outcome == 'Tails'"
      ],
      "metadata": {
        "id": "7KU7e_6j0YdM"
      },
      "execution_count": null,
      "outputs": []
    },
    {
      "cell_type": "code",
      "source": [
        "def get_matching_event(event_condition, sample_space):\n",
        "    return set([outcome for outcome in sample_space if event_condition(outcome)])"
      ],
      "metadata": {
        "id": "HkLTSkfY0f3a"
      },
      "execution_count": null,
      "outputs": []
    },
    {
      "cell_type": "code",
      "source": [
        "event_conditions = [is_heads_or_tails, is_heads, is_tails, is_neither]"
      ],
      "metadata": {
        "id": "MhBmIb-H0ljA"
      },
      "execution_count": null,
      "outputs": []
    },
    {
      "cell_type": "code",
      "source": [
        "weighted_sample_space = {'Heads': 4, 'Tails': 1}"
      ],
      "metadata": {
        "id": "K362hVqB0oNp"
      },
      "execution_count": null,
      "outputs": []
    },
    {
      "cell_type": "code",
      "source": [
        "def compute_event_probability(event_condition, generic_sample_space):\n",
        "    event = get_matching_event(event_condition, generic_sample_space)\n",
        "    if type(generic_sample_space) == type(set()):\n",
        "        return len(event) / len(generic_sample_space)\n",
        "    event_size = sum(generic_sample_space[outcome] for outcome in event)\n",
        "    return event_size / sum(generic_sample_space.values())"
      ],
      "metadata": {
        "id": "QtRip2Xf0rl0"
      },
      "execution_count": null,
      "outputs": []
    },
    {
      "cell_type": "code",
      "source": [
        "for event_condition in event_conditions:\n",
        "  prob = compute_event_probability(event_condition, weighted_sample_space)\n",
        "  name = event_condition.__name__\n",
        "  print(f'Probability of event arising from '{name}' is {prob}')"
      ],
      "metadata": {
        "id": "UYpsYHhp1BXZ"
      },
      "execution_count": null,
      "outputs": []
    },
    {
      "cell_type": "code",
      "source": [
        "for event_condition in event_conditions:\n",
        "  prob = compute_event_probability(event_condition, sample_space)\n",
        "  name = event_condition.__name__\n",
        "  print(f'Probability of event arising from '{name}' is {prob}')"
      ],
      "metadata": {
        "id": "hXRGbh7q1gtd"
      },
      "execution_count": null,
      "outputs": []
    }
  ]
}