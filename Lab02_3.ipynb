{
  "nbformat": 4,
  "nbformat_minor": 0,
  "metadata": {
    "colab": {
      "provenance": []
    },
    "kernelspec": {
      "name": "python3",
      "display_name": "Python 3"
    },
    "language_info": {
      "name": "python"
    }
  },
  "cells": [
    {
      "cell_type": "code",
      "execution_count": 1,
      "metadata": {
        "id": "j-1K35fh24jw"
      },
      "outputs": [],
      "source": [
        "def get_matching_event(event_condition, sample_space):\n",
        "  return set([outcome for outcome in sample_space\n",
        "              if event_condition(outcome)])"
      ]
    },
    {
      "cell_type": "code",
      "source": [
        "def compute_event_probability(event_condition, generic_sample_space):\n",
        "    event = get_matching_event(event_condition, generic_sample_space)\n",
        "    if type(generic_sample_space) == type(set()):\n",
        "        return len(event) / len(generic_sample_space)\n",
        "    event_size = sum(generic_sample_space[outcome]\n",
        "                     for outcome in event)\n",
        "    return event_size / sum(generic_sample_space.values())"
      ],
      "metadata": {
        "id": "XBA-iMIw3yf1"
      },
      "execution_count": 2,
      "outputs": []
    },
    {
      "cell_type": "code",
      "source": [
        "possible_rolls=list(range(1,7))\n",
        "print(possible_rolls)"
      ],
      "metadata": {
        "colab": {
          "base_uri": "https://localhost:8080/"
        },
        "id": "q_4g7Zd44AVX",
        "outputId": "7528ae56-9d3e-4a0e-9683-b1ac250b6856"
      },
      "execution_count": 3,
      "outputs": [
        {
          "output_type": "stream",
          "name": "stdout",
          "text": [
            "[1, 2, 3, 4, 5, 6]\n"
          ]
        }
      ]
    },
    {
      "cell_type": "code",
      "source": [
        "from itertools import product\n",
        "sample_space = set(product(possible_rolls, repeat=8))"
      ],
      "metadata": {
        "id": "ZeRJrcHn4IXJ"
      },
      "execution_count": 4,
      "outputs": []
    },
    {
      "cell_type": "code",
      "source": [
        "def has_sum_of_28(outcome): return sum(outcome) == 28\n",
        "prob= compute_event_probability(has_sum_of_28, sample_space)\n",
        "print(f'8 rolls sum to 28 with a probability of: {prob}')"
      ],
      "metadata": {
        "id": "83AMFk6V4NDJ",
        "colab": {
          "base_uri": "https://localhost:8080/"
        },
        "outputId": "a1d203d0-157f-4482-c46a-522c0eac5dae"
      },
      "execution_count": 5,
      "outputs": [
        {
          "output_type": "stream",
          "name": "stdout",
          "text": [
            "8 rolls sum to 28 with a probability of: 0.08094350137174211\n"
          ]
        }
      ]
    },
    {
      "cell_type": "markdown",
      "source": [
        "There is an 8% chance of 8 rolls summing to 28"
      ],
      "metadata": {
        "id": "XwFQVFKy8dME"
      }
    },
    {
      "cell_type": "code",
      "source": [
        "prob=compute_event_probability(lambda x: sum(x)==28,sample_space)\n",
        "assert prob == compute_event_probability(has_sum_of_28, sample_space)"
      ],
      "metadata": {
        "id": "fmiYjJcw4aP-"
      },
      "execution_count": 6,
      "outputs": []
    }
  ]
}